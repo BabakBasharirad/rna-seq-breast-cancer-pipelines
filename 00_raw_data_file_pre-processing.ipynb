{
 "cells": [
  {
   "cell_type": "markdown",
   "id": "7799c8f2",
   "metadata": {},
   "source": [
    "## **Breast Cancer Project**"
   ]
  },
  {
   "cell_type": "markdown",
   "id": "385839db",
   "metadata": {},
   "source": [
    "---"
   ]
  },
  {
   "cell_type": "markdown",
   "id": "aba7f1a3",
   "metadata": {},
   "source": [
    "### **Raw Data File Preprocessing and Formatting**\n",
    "\n",
    "This notebook focuses on preparing and formatting raw RNA-Seq data (TPM values) for breast cancer classification. It includes merging GDC (cancer) and GTEx (benign) data, aligning gene features, and saving clean matrices for downstream experiments. This preprocessing is shared across all three experimental pipelines described in the project."
   ]
  },
  {
   "cell_type": "markdown",
   "id": "25f4f2de",
   "metadata": {},
   "source": [
    "---"
   ]
  },
  {
   "cell_type": "markdown",
   "id": "cb0a3742",
   "metadata": {},
   "source": [
    "### **Setup and Configuration**\n",
    "\n",
    "The data is organized into the following folders under `data/`:\n",
    "- `raw_gdc_data/`: Raw cancer sample files downloaded from the GDC portal (each sample in its own folder).\n",
    "- `raw_gtx_data/`: Raw healthy sample file from GTEx in `.gct` format.\n",
    "- `initial/`: Preprocessed and aligned matrices after merging and cleaning.\n",
    "- `interim/`: Final feature matrices and label files used for training and testing."
   ]
  },
  {
   "cell_type": "code",
   "execution_count": null,
   "id": "67988629",
   "metadata": {},
   "outputs": [],
   "source": [
    "# Import required libraries\n",
    "import os\n",
    "import pandas as pd\n",
    "import numpy as np\n",
    "import seaborn as sns\n",
    "import shutil\n",
    "import pickle\n",
    "import matplotlib.pyplot as plt\n",
    "import matplotlib.gridspec as gridspec\n",
    "\n",
    "from sklearn.ensemble import RandomForestClassifier\n",
    "from sklearn.model_selection import StratifiedKFold\n",
    "from sklearn.metrics import accuracy_score, precision_score, recall_score, f1_score, confusion_matrix\n",
    "from sklearn.feature_selection import SelectKBest, f_classif\n",
    "from sklearn.decomposition import PCA\n",
    "from sklearn.model_selection import StratifiedKFold, permutation_test_score\n",
    "from sklearn.metrics import confusion_matrix, ConfusionMatrixDisplay\n",
    "from sklearn.metrics import roc_auc_score, confusion_matrix\n",
    "from sklearn.metrics import roc_curve, auc"
   ]
  },
  {
   "cell_type": "code",
   "execution_count": null,
   "id": "de40d3e2",
   "metadata": {},
   "outputs": [],
   "source": [
    "# Define data folder structure\n",
    "DATA_DIR = \"data\"\n",
    "RAW_GDC_DIR = os.path.join(DATA_DIR, \"raw_gdc_data\")\n",
    "RAW_GTX_DIR = os.path.join(DATA_DIR, \"raw_gtx_data\")\n",
    "\n",
    "INITIAL_DIR = os.path.join(DATA_DIR, \"initial\")\n",
    "INTERIM_DIR = os.path.join(DATA_DIR, \"interim\")"
   ]
  },
  {
   "cell_type": "code",
   "execution_count": null,
   "id": "833ae6a7",
   "metadata": {},
   "outputs": [],
   "source": [
    "# Create directories if they don't exist\n",
    "os.makedirs(INITIAL_DIR, exist_ok=True)\n",
    "os.makedirs(INTERIM_DIR, exist_ok=True)"
   ]
  },
  {
   "cell_type": "markdown",
   "id": "ab06bbc0",
   "metadata": {},
   "source": [
    "---"
   ]
  },
  {
   "cell_type": "markdown",
   "id": "4acce0ee-94df-4266-9cac-90a53b3d568a",
   "metadata": {},
   "source": [
    "### **Step 1: Initial Process of GDC Raw Sample Files (Cancer Data)**\n",
    "\n",
    "This block processes RNA-Seq files downloaded from the GDC portal. Each `.tsv` file contains gene expression data for a single cancer sample. From each file, the column `tpm_unstranded` is extracted, indexed by `gene_id`.\n",
    "\n",
    "These per-sample files are merged into a single matrix where:\n",
    "- **Rows** = genes,\n",
    "- **Columns** = samples,\n",
    "- **Values** = TPM expression values.\n",
    "\n",
    "This process results in a file `gdc_data.csv` saved to the `data/initial/` folder. \n",
    "\n",
    "It is computationally expensive, so it is designed to be skipped once completed unless the raw data changes."
   ]
  },
  {
   "cell_type": "markdown",
   "id": "fb3eaca4",
   "metadata": {},
   "source": [
    "---"
   ]
  },
  {
   "cell_type": "markdown",
   "id": "153d2174",
   "metadata": {},
   "source": [
    "##### **Step 1.1: Merge All GDC Cancer Sample Files**\n",
    "\n",
    "This step reads individual `.tsv` files downloaded from the GDC portal, each representing one cancer sample. From each file, the `tpm_unstranded` column is extracted, renamed to a unique sample ID (e.g., `c_0001`, `c_0002`, ...), and merged by gene ID into a single dataframe. The final merged dataset is saved as `gdc_data.csv` in the `data/initial/` directory.\n"
   ]
  },
  {
   "cell_type": "code",
   "execution_count": null,
   "id": "9b512a23-a3b0-4fe5-a1de-66ae4fb04522",
   "metadata": {},
   "outputs": [],
   "source": [
    "# Define paths for GDC sample sheet and data files\n",
    "gdc_sample_sheet_path = os.path.join(RAW_GDC_DIR, 'gdc_sample_sheet.tsv')\n",
    "gdc_merged_file_path = os.path.join(INITIAL_DIR, 'gdc_data.csv')\n",
    "\n",
    "sample_sheet_file_handler = pd.read_csv(gdc_sample_sheet_path, sep='\\t')\n",
    "\n",
    "# Initialize an empty DataFrame to store the combined data\n",
    "gdc_full_df = pd.DataFrame()\n",
    "\n",
    "sample_counter = 1\n",
    "# Iterate through each file listed in the sample sheet\n",
    "for index, row in sample_sheet_file_handler.iterrows():\n",
    "    folder_id = row['File ID']\n",
    "    file_name = row['File Name']\n",
    "    \n",
    "    # Construct the full file path\n",
    "    sample_file_path = os.path.join(RAW_GDC_DIR, folder_id, file_name)\n",
    "    \n",
    "    # Read the TSV file\n",
    "    try:\n",
    "        sample_data = pd.read_csv(sample_file_path, sep='\\t', skiprows=[0, 2, 3, 4, 5])\n",
    "        \n",
    "        # Extract the relevant columns ('gene_id' and 'TPM' or equivalent)\n",
    "        relevant_data = sample_data[['gene_id', 'tpm_unstranded']]\n",
    "        \n",
    "        # Rename the columns to match the GTex format\n",
    "        sample_number = 'c_' + str(sample_counter).zfill(4)\n",
    "        relevant_data.columns = ['gene_id', sample_number]  # Use folder_id as the sample name\n",
    "        \n",
    "        # Merge with the combined data\n",
    "        if gdc_full_df.empty:\n",
    "            gdc_full_df = relevant_data\n",
    "        else:\n",
    "            gdc_full_df = pd.merge(gdc_full_df, relevant_data, on='gene_id', how='outer')\n",
    "\n",
    "        sample_counter += 1\n",
    "            \n",
    "    except Exception as e:\n",
    "        print(f\"Error processing file {sample_file_path}: {e}\")\n",
    "\n",
    "gdc_full_df.to_csv(gdc_merged_file_path, index=False)"
   ]
  },
  {
   "cell_type": "code",
   "execution_count": null,
   "id": "a2f82118-9326-4057-a983-64e9805167df",
   "metadata": {},
   "outputs": [],
   "source": [
    "# Load and display the first few rows of the merged GDC dataset\n",
    "gdc_merged_file_path = os.path.join(INITIAL_DIR, 'gdc_data.csv')\n",
    "\n",
    "gdc_merged_file_df = pd.read_csv(gdc_merged_file_path, index_col=0)\n",
    "print(\"Shape of initial GDC Data Set\", gdc_merged_file_df.shape)\n",
    "gdc_merged_file_df.head(5)"
   ]
  },
  {
   "cell_type": "markdown",
   "id": "8db008fd",
   "metadata": {},
   "source": [
    "##### **Step 1.2: Split GDC Data into Model Training and Unseen Testing**\n",
    "\n",
    "The full GDC cancer dataset is split into:\n",
    "- `train_num = 1000` samples for model building and training\n",
    "- `unseen_num = 231` samples for final testing\n",
    "\n",
    "Samples are randomly selected from the full dataset to ensure unbiased evaluation. The result is two files:\n",
    "- `gdc_data_training.csv`\n",
    "- `gdc_data_testing.csv`\n",
    "\n",
    "Both are saved in `data/initial/`."
   ]
  },
  {
   "cell_type": "code",
   "execution_count": null,
   "id": "6c01c193",
   "metadata": {},
   "outputs": [],
   "source": [
    "cancer_data_number_of_samples_for_model_builiding = 1000    # You can choose the number of data samples for model building\n",
    "                                                            # The rest of data will be kept separately as Unseen data for testing"
   ]
  },
  {
   "cell_type": "code",
   "execution_count": null,
   "id": "94100da6",
   "metadata": {},
   "outputs": [],
   "source": [
    "# Define path\n",
    "gdc_data_file_path = os.path.join(INITIAL_DIR, 'gdc_data.csv')\n",
    "\n",
    "gdc_full_data_few_rows_df = pd.read_csv(gdc_data_file_path, nrows=5)\n",
    "columns = gdc_full_data_few_rows_df.columns.tolist()\n",
    "\n",
    "gene_info_columns = columns[0:1]\n",
    "sample_columns = columns[1:]\n",
    "\n",
    "# Split data into data for model building and training and unseen data for testing\n",
    "gdc_total_number_of_samples = len(sample_columns)         # bc tcga data = 1231\n",
    "gdc_train_num = cancer_data_number_of_samples_for_model_builiding\n",
    "gdc_unseen_num = gdc_total_number_of_samples - gdc_train_num\n",
    "\n",
    "# Randomly select 1000 sample columns from the dataset as traiing data\n",
    "gdc_chosen_columns_for_training = np.random.choice(sample_columns, gdc_train_num, replace=False).tolist()\n",
    "gdc_final_columns_for_training = gene_info_columns + gdc_chosen_columns_for_training\n",
    "\n",
    "# Get the remaining columns as testing data\n",
    "gdc_chosen_columns_for_testing = [col for col in sample_columns if col not in gdc_chosen_columns_for_training]\n",
    "gdc_final_columns_for_testing = gene_info_columns + gdc_chosen_columns_for_testing\n",
    "\n",
    "# Load the dataset again but only with the selected columns\n",
    "gdc_train_df = pd.read_csv(gdc_data_file_path, usecols=gdc_final_columns_for_training)\n",
    "gdc_unseen_df = pd.read_csv(gdc_data_file_path, usecols=gdc_final_columns_for_testing)\n",
    "\n",
    "# Save the training and testing data to new files\n",
    "gdc_training_file_path = os.path.join(INITIAL_DIR, 'gdc_data_training.csv')\n",
    "gdc_unseen_file_path = os.path.join(INITIAL_DIR, 'gdc_data_testing.csv')\n",
    "\n",
    "gdc_train_df.to_csv(gdc_training_file_path, index=False)\n",
    "gdc_unseen_df.to_csv(gdc_unseen_file_path, index=False)"
   ]
  },
  {
   "cell_type": "code",
   "execution_count": null,
   "id": "5078e619",
   "metadata": {},
   "outputs": [],
   "source": [
    "print(\"Shape of initial GDC Model Building Data Set\", gdc_train_df.shape)\n",
    "gdc_train_df.head(5)"
   ]
  },
  {
   "cell_type": "code",
   "execution_count": null,
   "id": "f3d051fc",
   "metadata": {},
   "outputs": [],
   "source": [
    "print(\"Shape of initial GDC Testing Data Set\", gdc_unseen_df.shape)\n",
    "gdc_unseen_df.head(5)"
   ]
  },
  {
   "cell_type": "markdown",
   "id": "c2fed1fa",
   "metadata": {},
   "source": [
    "---"
   ]
  },
  {
   "cell_type": "markdown",
   "id": "ba5fc8a4-2036-4bfc-b7ae-f8655ca98223",
   "metadata": {},
   "source": [
    "### **Step 2: Initial Processing of GTEx Raw Sample File (Non-Cancer Data)**\n",
    "\n",
    "This step processes the transcriptomic data from GTEx, originally stored in `.gct` format, which contains expression levels for thousands of genes across thousands of healthy samples.\n",
    "\n",
    "It includes:\n",
    "1. Conversion of `.gct` to `.csv`, skipping metadata rows.\n",
    "2. Random selection of healthy samples.\n",
    "3. Standardization of sample names to the format `h_xxxx`.\n",
    "4. Saving the result as `gtx_data.csv` in `data/initial/`.\n",
    "\n",
    "Like the GDC step, this is a time-consuming process and can be skipped once completed."
   ]
  },
  {
   "cell_type": "markdown",
   "id": "28436d91",
   "metadata": {},
   "source": [
    "---"
   ]
  },
  {
   "cell_type": "code",
   "execution_count": null,
   "id": "bb6d6b63-60ac-4e28-b81f-d663561bc903",
   "metadata": {},
   "outputs": [],
   "source": [
    "# Define paths\n",
    "gtx_full_gct_file_path = os.path.join(RAW_GTX_DIR, 'gtx_raw_data.gct')\n",
    "gtx_full_csv_file_path = os.path.join(RAW_GTX_DIR, 'gtx_raw_data.csv')"
   ]
  },
  {
   "cell_type": "markdown",
   "id": "cd536af4",
   "metadata": {},
   "source": [
    "##### **Step 2.1: Convert Raw GCT to Raw CSV file**\n",
    "This block defines the `read_gct()` function, which skips the top two header lines from the `.gct` file and loads the remaining expression matrix into a DataFrame. The `convert_gct_to_csv()` function wraps this logic and saves the result as a temporary `.csv` file."
   ]
  },
  {
   "cell_type": "code",
   "execution_count": null,
   "id": "203496ac-3002-4240-9460-23d63c00d55e",
   "metadata": {},
   "outputs": [],
   "source": [
    "def read_gct(file_path):\n",
    "    with open(file_path, 'r') as f:\n",
    "        # Skip the first two header lines\n",
    "        for _ in range(2):\n",
    "            next(f)\n",
    "        # Read the rest of the file into a pandas DataFrame\n",
    "        df = pd.read_csv(f, sep='\\t')\n",
    "    return df"
   ]
  },
  {
   "cell_type": "code",
   "execution_count": null,
   "id": "88c1aef4-7ed5-4d46-bba2-f1701fe6ce94",
   "metadata": {},
   "outputs": [],
   "source": [
    "def convert_gct_to_csv(gct_file, csv_file):\n",
    "    df = read_gct(gct_file)\n",
    "    df.to_csv(csv_file, index=False)"
   ]
  },
  {
   "cell_type": "code",
   "execution_count": null,
   "id": "fa238e66-421f-4b76-99bf-5b1e5baae153",
   "metadata": {},
   "outputs": [],
   "source": [
    "convert_gct_to_csv(gtx_full_gct_file_path, gtx_full_csv_file_path)"
   ]
  },
  {
   "cell_type": "markdown",
   "id": "16240599",
   "metadata": {},
   "source": [
    "##### **Step 2.2: Select Healthy Samples Randomly to Create GTEx Dataset**\n",
    "A fixed number of healthy samples (default: 1231) are randomly selected from the converted `.csv` GTEx matrix. The sample names are renamed using the format `h_0001`, `h_0002`, etc., and the final dataset is saved as `gtx_data.csv` in the `data/initial/` folder.\n"
   ]
  },
  {
   "cell_type": "code",
   "execution_count": null,
   "id": "11201662",
   "metadata": {},
   "outputs": [],
   "source": [
    "gtx_number_of_samples_to_be_selected = 2231"
   ]
  },
  {
   "cell_type": "code",
   "execution_count": null,
   "id": "1cc5745e",
   "metadata": {},
   "outputs": [],
   "source": [
    "gtx_full_csv_file_path = os.path.join(RAW_GTX_DIR, 'gtx_raw_data.csv')\n",
    "gtx_full_df = pd.read_csv(gtx_full_csv_file_path, nrows=5)\n",
    "columns = gtx_full_df.columns.tolist()\n",
    "\n",
    "# The first two columns are 'Name' and 'Description', we keep them and sample the rest\n",
    "gene_info_columns = columns[0:2]\n",
    "sample_columns = columns[2:]\n",
    "\n",
    "# Randomly select sample columns from the dataset\n",
    "chosen_samples_columns = np.random.choice(sample_columns, gtx_number_of_samples_to_be_selected, replace=False).tolist()\n",
    "final_samples_columns = gene_info_columns + chosen_samples_columns\n",
    "\n",
    "# Load the dataset again but only with the selected columns\n",
    "gtx_selected_data_df = pd.read_csv(gtx_full_csv_file_path, usecols=final_samples_columns)\n",
    "gtx_selected_data_df = gtx_selected_data_df.rename(columns={'Name': 'gene_id'})\n",
    "gtx_selected_data_df = gtx_selected_data_df.drop('Description', axis=1)\n",
    "\n",
    "# Changing the sample ids to h_xxxx format\n",
    "num_samples = gtx_selected_data_df.shape[1] - 1\n",
    "new_sample_names = [f\"h_{i:04d}\" for i in range(1, num_samples + 1)]\n",
    "gtx_selected_data_df.columns = [gtx_selected_data_df.columns[0]] + new_sample_names\n",
    "\n",
    "# Save the sampled data to a new CSV file\n",
    "gtx_selected_samples_file_path = os.path.join(INITIAL_DIR, 'gtx_data.csv')\n",
    "gtx_selected_data_df.to_csv(gtx_selected_samples_file_path, index=False)"
   ]
  },
  {
   "cell_type": "code",
   "execution_count": null,
   "id": "17a6c045",
   "metadata": {},
   "outputs": [],
   "source": [
    "# Load and display the first few rows of the GTex selected dataset\n",
    "gtx_data_final_df = pd.read_csv(gtx_selected_samples_file_path, index_col=0)\n",
    "print(\"Shape of initial GTex Data Set\", gtx_data_final_df.shape)\n",
    "gtx_data_final_df.head(5)"
   ]
  },
  {
   "cell_type": "markdown",
   "id": "fd0f6171",
   "metadata": {
    "editable": true,
    "slideshow": {
     "slide_type": ""
    },
    "tags": []
   },
   "source": [
    "##### **Step 2.3: Divide GTEx Data into Training and Testing Sets**\n",
    "\n",
    "From the selected GTEx samples:\n",
    "- `1000` samples are randomly chosen for model training\n",
    "- The remaining `231` samples are used as unseen test data\n",
    "\n",
    "Resulting files:\n",
    "- `gtx_data_training.csv`\n",
    "- `gtx_data_testing.csv`\n",
    "\n",
    "Both are stored in `data/initial/`."
   ]
  },
  {
   "cell_type": "code",
   "execution_count": null,
   "id": "e542845e",
   "metadata": {},
   "outputs": [],
   "source": [
    "gtx_selected_samples_file_path_ = os.path.join(INITIAL_DIR, 'gtx_data.csv')\n",
    "gtx_selected_samples_few_rows_df = pd.read_csv(gtx_selected_samples_file_path_, nrows=5)\n",
    "gtx_columns = gtx_selected_samples_few_rows_df.columns.tolist()\n",
    "\n",
    "# The first two columns are 'Name' and 'Description', we keep them and sample the rest\n",
    "gtx_gene_info_columns = gtx_columns[0:1]\n",
    "gtx_samples_columns = gtx_columns[1:]\n",
    "\n",
    "# Split data into data for model building and training and unseen data for testing\n",
    "gtx_total_num = len(gtx_samples_columns)\n",
    "gtx_train_num = 1000\n",
    "gtx_unseen_num = gtx_total_num - gtx_train_num      # The rest of samples will be used for testing as unseen data\n",
    "\n",
    "# Randomly select x sample columns from the dataset as traiing data\n",
    "gtx_chosen_columns_for_training = np.random.choice(gtx_samples_columns, gtx_train_num, replace=False).tolist()\n",
    "gtx_final_columns_for_training = gtx_gene_info_columns + gtx_chosen_columns_for_training\n",
    "\n",
    "# Select the rest of samples from the dataset as testing data\n",
    "gtx_chosen_columns_for_testing = [col for col in gtx_samples_columns if col not in gtx_chosen_columns_for_training]\n",
    "gtx_final_columns_for_testing = gtx_gene_info_columns + gtx_chosen_columns_for_testing\n",
    "\n",
    "# Load the dataset again but only with the selected columns\n",
    "gtx_train_df = pd.read_csv(gtx_selected_samples_file_path_, usecols=gtx_final_columns_for_training)\n",
    "gtx_unseen_df = pd.read_csv(gtx_selected_samples_file_path_, usecols=gtx_final_columns_for_testing)\n",
    "\n",
    "# Save the training and unseen testing data to new CSV files\n",
    "gtx_training_file_path = os.path.join(INITIAL_DIR, 'gtx_data_training.csv')\n",
    "gtx_testing_file_path = os.path.join(INITIAL_DIR, 'gtx_data_testing.csv')\n",
    "\n",
    "gtx_train_df.to_csv(gtx_training_file_path, index=False)\n",
    "gtx_unseen_df.to_csv(gtx_testing_file_path, index=False)"
   ]
  },
  {
   "cell_type": "code",
   "execution_count": null,
   "id": "c24fbb14",
   "metadata": {},
   "outputs": [],
   "source": [
    "print(\"Shape of initial Gtex Training Data Set\", gtx_train_df.shape)\n",
    "gtx_train_df.head(5)"
   ]
  },
  {
   "cell_type": "code",
   "execution_count": null,
   "id": "c4de579e",
   "metadata": {},
   "outputs": [],
   "source": [
    "print(\"Shape of initial GTex Testing Data Set\", gtx_unseen_df.shape)\n",
    "gtx_unseen_df.head(5)"
   ]
  },
  {
   "cell_type": "markdown",
   "id": "1c92319b",
   "metadata": {},
   "source": [
    "---"
   ]
  },
  {
   "cell_type": "markdown",
   "id": "4c6a947e",
   "metadata": {},
   "source": [
    "### **Step 3: Create Final Data - Merge and Label Cancer and Non-Cancer**"
   ]
  },
  {
   "cell_type": "markdown",
   "id": "86712cf4",
   "metadata": {},
   "source": [
    "---"
   ]
  },
  {
   "cell_type": "markdown",
   "id": "6ccc74c1",
   "metadata": {},
   "source": [
    "##### **Step 3.1: Create Training Data (Combined Cancer and non-Cancer)**\n",
    "\n",
    "This step merges the GTEx (non-cancer) and GDC (cancer) RNA-Seq datasets and prepares them for machine learning. The goal is to align the gene expression profiles from both sources, assign binary labels, and generate a unified dataset.\n",
    "\n",
    "This step includes:\n",
    "1. **Loads**:\n",
    "   - `gtx_data.csv` and `gdc_data.csv` from `data/initial/`\n",
    "2. **Aligns gene features** (columns) to keep only shared genes between GTEx and GDC.\n",
    "3. **Transposes the matrices**:\n",
    "   - Each **row** becomes a sample,\n",
    "   - Each **column** is a gene (TPM value).\n",
    "4. **Assigns labels**:\n",
    "   - `0` for GTEx (healthy samples),\n",
    "   - `1` for GDC (cancer samples).\n",
    "5. **Combines** both datasets into a single feature matrix and a corresponding label vector.\n",
    "\n",
    "##### Output files (in `data/interim/`):\n",
    "- `preprocessed_data_features.csv`: Combined matrix of all samples with aligned gene features (samples × genes)\n",
    "- `preprocessed_data_labels.csv`: Binary labels for each sample (0 = GTEx, 1 = GDC)\n",
    "\n",
    "These files serve as input to the next steps: statistical feature selection and dimensionality reduction.\n",
    "\n",
    "Both the feature matrix and label vector are saved in `data/interim/` and will be used as input to the modeling pipelines."
   ]
  },
  {
   "cell_type": "code",
   "execution_count": null,
   "id": "1c7316f1",
   "metadata": {},
   "outputs": [],
   "source": [
    "gtx_file_path = os.path.join(INITIAL_DIR, 'gtx_data_training.csv')\n",
    "gdc_file_path = os.path.join(INITIAL_DIR, 'gdc_data_training.csv')\n",
    "\n",
    "# Load the datasets with headers\n",
    "gtx__df = pd.read_csv(gtx_file_path, header=0)\n",
    "gdc__df = pd.read_csv(gdc_file_path, header=0)\n",
    "\n",
    "# Ensure that the 'gene_id' column is the index for both datasets\n",
    "gtx__df.set_index('gene_id', inplace=True)\n",
    "gdc__df.set_index('gene_id', inplace=True)\n",
    "\n",
    "# Add labels row: 0 for GTEx (healthy) and 1 for GDC (cancer)\n",
    "gtx_labels = pd.DataFrame([0] * gtx__df.shape[1], index=gtx__df.columns, columns=['label']).transpose()\n",
    "gdc_labels = pd.DataFrame([1] * gdc__df.shape[1], index=gdc__df.columns, columns=['label']).transpose()\n",
    "\n",
    "# Concatenate labels and data\n",
    "gtx__df = pd.concat([gtx_labels, gtx__df])\n",
    "gdc__df = pd.concat([gdc_labels, gdc__df])\n",
    "\n",
    "# Find common genes (rows)\n",
    "common_genes = gtx__df.index.intersection(gdc__df.index)\n",
    "\n",
    "# Filter both datasets to keep only the common genes\n",
    "gtx_df_aligned = gtx__df.loc[common_genes]\n",
    "gdc_df_aligned = gdc__df.loc[common_genes]\n",
    "\n",
    "# Combine both datasets\n",
    "combined_data = pd.concat([gtx_df_aligned, gdc_df_aligned], axis=1)\n",
    "\n",
    "# Transpose the data to have samples as rows and genes as columns\n",
    "combined_data = combined_data.transpose()\n",
    "\n",
    "# Separate features and labels\n",
    "labels = combined_data['label']\n",
    "features = combined_data.drop(columns=['label'])\n",
    "\n",
    "# Save preprocessed features and labels to CSV\n",
    "output_file_prefix = os.path.join(INTERIM_DIR, 'training_data')\n",
    "features.to_csv(output_file_prefix + '_features.csv', index=False)\n",
    "labels.to_csv(output_file_prefix + '_labels.csv', index=False)\n",
    "\n",
    "print(\"Data Merging Complete\")\n",
    "print(\"Shape of features:\", features.shape)\n",
    "print(\"Shape of labels:\", labels.shape)"
   ]
  },
  {
   "cell_type": "markdown",
   "id": "f5fc4f40",
   "metadata": {},
   "source": [
    "##### **Step 3.2: Create Unseen Testing Data (Combined Cancer and non-Cancer)**\n",
    "\n",
    "This step merges the unseen test samples from GTEx and GDC to create the final test dataset. It:\n",
    "- Loads `gtx_data_testing.csv` and `gdc_data_testing.csv` from `data/initial/`\n",
    "- Aligns gene features to ensure consistency\n",
    "- Assigns binary labels:\n",
    "  - `0` for GTEx (benign)\n",
    "  - `1` for GDC (cancer)\n",
    "- Combines the datasets into:\n",
    "  - `test_features.csv`: matrix of samples × genes\n",
    "  - `test_labels.csv`: corresponding label vector\n",
    "\n",
    "These files are saved to `data/interim/` and used only for final evaluation of trained models."
   ]
  },
  {
   "cell_type": "code",
   "execution_count": null,
   "id": "0a695e7c",
   "metadata": {},
   "outputs": [],
   "source": [
    "gtx_test_file_path = os.path.join(INITIAL_DIR, 'gtx_data_testing.csv')\n",
    "gdc_test_file_path = os.path.join(INITIAL_DIR, 'gdc_data_testing.csv')\n",
    "\n",
    "# Load the datasets with headers\n",
    "gtx_test__df = pd.read_csv(gtx_test_file_path, header=0)\n",
    "gdc_test__df = pd.read_csv(gdc_test_file_path, header=0)\n",
    "\n",
    "# Ensure that the 'gene_id' column is the index for both datasets\n",
    "gtx_test__df.set_index('gene_id', inplace=True)\n",
    "gdc_test__df.set_index('gene_id', inplace=True)\n",
    "\n",
    "# Add labels row: 0 for GTEx (healthy) and 1 for GDC (cancer)\n",
    "gtx_test_labels = pd.DataFrame([0] * gtx_test__df.shape[1], index=gtx_test__df.columns, columns=['label']).transpose()\n",
    "gdc_test_labels = pd.DataFrame([1] * gdc_test__df.shape[1], index=gdc_test__df.columns, columns=['label']).transpose()\n",
    "\n",
    "# Concatenate labels and data\n",
    "gtx_test__df = pd.concat([gtx_test_labels, gtx_test__df])\n",
    "gdc_test__df = pd.concat([gdc_test_labels, gdc_test__df])\n",
    "\n",
    "# Find common genes (rows)\n",
    "common_genes = gtx_test__df.index.intersection(gdc_test__df.index)\n",
    "\n",
    "# Filter both datasets to keep only the common genes\n",
    "gtx_test_df_aligned = gtx_test__df.loc[common_genes]\n",
    "gdc_test_df_aligned = gdc_test__df.loc[common_genes]\n",
    "\n",
    "# Combine both datasets\n",
    "combined_data_test = pd.concat([gtx_test_df_aligned, gdc_test_df_aligned], axis=1)\n",
    "\n",
    "# Transpose the data to have samples as rows and genes as columns\n",
    "combined_data_test = combined_data_test.transpose()\n",
    "\n",
    "# Separate features and labels\n",
    "labels_test = combined_data_test['label']\n",
    "features_test = combined_data_test.drop(columns=['label'])\n",
    "\n",
    "# Save preprocessed features and labels to CSV\n",
    "output_file_prefix = os.path.join(INTERIM_DIR, 'testing_data')\n",
    "features_test.to_csv(output_file_prefix + '_features.csv', index=False)\n",
    "labels_test.to_csv(output_file_prefix + '_labels.csv', index=False)\n",
    "\n",
    "print(\"Data Merging Complete\")\n",
    "print(\"Shape of features:\", features_test.shape)\n",
    "print(\"Shape of labels:\", labels_test.shape)"
   ]
  }
 ],
 "metadata": {
  "kernelspec": {
   "display_name": "base",
   "language": "python",
   "name": "python3"
  },
  "language_info": {
   "codemirror_mode": {
    "name": "ipython",
    "version": 3
   },
   "file_extension": ".py",
   "mimetype": "text/x-python",
   "name": "python",
   "nbconvert_exporter": "python",
   "pygments_lexer": "ipython3",
   "version": "3.12.2"
  }
 },
 "nbformat": 4,
 "nbformat_minor": 5
}
